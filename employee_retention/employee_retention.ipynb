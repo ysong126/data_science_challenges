{
 "cells": [
  {
   "cell_type": "code",
   "execution_count": 1,
   "id": "f822a607",
   "metadata": {},
   "outputs": [],
   "source": [
    "# employee retention\n",
    "# goal predict when an employee will leave. find the main factors\n",
    "import numpy as np\n",
    "import pandas as pd\n",
    "import matplotlib.pyplot as plt\n",
    "import seaborn as sns\n",
    "import graphviz\n",
    "from sklearn import tree\n",
    "from sklearn.tree import DecisionTreeClassifier\n",
    "from sklearn.model_selection import train_test_split\n",
    "from sklearn.metrics import accuracy_score, average_precision_score"
   ]
  },
  {
   "cell_type": "code",
   "execution_count": 2,
   "id": "2b5073c5",
   "metadata": {},
   "outputs": [
    {
     "data": {
      "text/html": [
       "<div>\n",
       "<style scoped>\n",
       "    .dataframe tbody tr th:only-of-type {\n",
       "        vertical-align: middle;\n",
       "    }\n",
       "\n",
       "    .dataframe tbody tr th {\n",
       "        vertical-align: top;\n",
       "    }\n",
       "\n",
       "    .dataframe thead th {\n",
       "        text-align: right;\n",
       "    }\n",
       "</style>\n",
       "<table border=\"1\" class=\"dataframe\">\n",
       "  <thead>\n",
       "    <tr style=\"text-align: right;\">\n",
       "      <th></th>\n",
       "      <th>employee_id</th>\n",
       "      <th>company_id</th>\n",
       "      <th>dept</th>\n",
       "      <th>seniority</th>\n",
       "      <th>salary</th>\n",
       "      <th>join_date</th>\n",
       "      <th>quit_date</th>\n",
       "    </tr>\n",
       "  </thead>\n",
       "  <tbody>\n",
       "    <tr>\n",
       "      <th>0</th>\n",
       "      <td>13021.0</td>\n",
       "      <td>7</td>\n",
       "      <td>customer_service</td>\n",
       "      <td>28</td>\n",
       "      <td>89000.0</td>\n",
       "      <td>2014-03-24</td>\n",
       "      <td>2015-10-30</td>\n",
       "    </tr>\n",
       "    <tr>\n",
       "      <th>1</th>\n",
       "      <td>825355.0</td>\n",
       "      <td>7</td>\n",
       "      <td>marketing</td>\n",
       "      <td>20</td>\n",
       "      <td>183000.0</td>\n",
       "      <td>2013-04-29</td>\n",
       "      <td>2014-04-04</td>\n",
       "    </tr>\n",
       "    <tr>\n",
       "      <th>2</th>\n",
       "      <td>927315.0</td>\n",
       "      <td>4</td>\n",
       "      <td>marketing</td>\n",
       "      <td>14</td>\n",
       "      <td>101000.0</td>\n",
       "      <td>2014-10-13</td>\n",
       "      <td>NaN</td>\n",
       "    </tr>\n",
       "    <tr>\n",
       "      <th>3</th>\n",
       "      <td>662910.0</td>\n",
       "      <td>7</td>\n",
       "      <td>customer_service</td>\n",
       "      <td>20</td>\n",
       "      <td>115000.0</td>\n",
       "      <td>2012-05-14</td>\n",
       "      <td>2013-06-07</td>\n",
       "    </tr>\n",
       "    <tr>\n",
       "      <th>4</th>\n",
       "      <td>256971.0</td>\n",
       "      <td>2</td>\n",
       "      <td>data_science</td>\n",
       "      <td>23</td>\n",
       "      <td>276000.0</td>\n",
       "      <td>2011-10-17</td>\n",
       "      <td>2014-08-22</td>\n",
       "    </tr>\n",
       "  </tbody>\n",
       "</table>\n",
       "</div>"
      ],
      "text/plain": [
       "   employee_id  company_id              dept  seniority    salary   join_date  \\\n",
       "0      13021.0           7  customer_service         28   89000.0  2014-03-24   \n",
       "1     825355.0           7         marketing         20  183000.0  2013-04-29   \n",
       "2     927315.0           4         marketing         14  101000.0  2014-10-13   \n",
       "3     662910.0           7  customer_service         20  115000.0  2012-05-14   \n",
       "4     256971.0           2      data_science         23  276000.0  2011-10-17   \n",
       "\n",
       "    quit_date  \n",
       "0  2015-10-30  \n",
       "1  2014-04-04  \n",
       "2         NaN  \n",
       "3  2013-06-07  \n",
       "4  2014-08-22  "
      ]
     },
     "execution_count": 2,
     "metadata": {},
     "output_type": "execute_result"
    }
   ],
   "source": [
    "# EDA and data pre-processing\n",
    "df = pd.read_csv(\"employee_retention_data.csv\")\n",
    "df.head(5)"
   ]
  },
  {
   "cell_type": "code",
   "execution_count": 3,
   "id": "4336688b",
   "metadata": {},
   "outputs": [
    {
     "name": "stdout",
     "output_type": "stream",
     "text": [
      "<class 'pandas.core.frame.DataFrame'>\n",
      "RangeIndex: 24702 entries, 0 to 24701\n",
      "Data columns (total 7 columns):\n",
      " #   Column       Non-Null Count  Dtype  \n",
      "---  ------       --------------  -----  \n",
      " 0   employee_id  24702 non-null  float64\n",
      " 1   company_id   24702 non-null  int64  \n",
      " 2   dept         24702 non-null  object \n",
      " 3   seniority    24702 non-null  int64  \n",
      " 4   salary       24702 non-null  float64\n",
      " 5   join_date    24702 non-null  object \n",
      " 6   quit_date    13510 non-null  object \n",
      "dtypes: float64(2), int64(2), object(3)\n",
      "memory usage: 1.3+ MB\n"
     ]
    },
    {
     "data": {
      "text/html": [
       "<div>\n",
       "<style scoped>\n",
       "    .dataframe tbody tr th:only-of-type {\n",
       "        vertical-align: middle;\n",
       "    }\n",
       "\n",
       "    .dataframe tbody tr th {\n",
       "        vertical-align: top;\n",
       "    }\n",
       "\n",
       "    .dataframe thead th {\n",
       "        text-align: right;\n",
       "    }\n",
       "</style>\n",
       "<table border=\"1\" class=\"dataframe\">\n",
       "  <thead>\n",
       "    <tr style=\"text-align: right;\">\n",
       "      <th></th>\n",
       "      <th>employee_id</th>\n",
       "      <th>company_id</th>\n",
       "      <th>seniority</th>\n",
       "      <th>salary</th>\n",
       "    </tr>\n",
       "  </thead>\n",
       "  <tbody>\n",
       "    <tr>\n",
       "      <th>count</th>\n",
       "      <td>24702.000000</td>\n",
       "      <td>24702.000000</td>\n",
       "      <td>24702.000000</td>\n",
       "      <td>24702.000000</td>\n",
       "    </tr>\n",
       "    <tr>\n",
       "      <th>mean</th>\n",
       "      <td>501604.403530</td>\n",
       "      <td>3.426969</td>\n",
       "      <td>14.127803</td>\n",
       "      <td>138183.345478</td>\n",
       "    </tr>\n",
       "    <tr>\n",
       "      <th>std</th>\n",
       "      <td>288909.026101</td>\n",
       "      <td>2.700011</td>\n",
       "      <td>8.089520</td>\n",
       "      <td>76058.184573</td>\n",
       "    </tr>\n",
       "    <tr>\n",
       "      <th>min</th>\n",
       "      <td>36.000000</td>\n",
       "      <td>1.000000</td>\n",
       "      <td>1.000000</td>\n",
       "      <td>17000.000000</td>\n",
       "    </tr>\n",
       "    <tr>\n",
       "      <th>25%</th>\n",
       "      <td>250133.750000</td>\n",
       "      <td>1.000000</td>\n",
       "      <td>7.000000</td>\n",
       "      <td>79000.000000</td>\n",
       "    </tr>\n",
       "    <tr>\n",
       "      <th>50%</th>\n",
       "      <td>500793.000000</td>\n",
       "      <td>2.000000</td>\n",
       "      <td>14.000000</td>\n",
       "      <td>123000.000000</td>\n",
       "    </tr>\n",
       "    <tr>\n",
       "      <th>75%</th>\n",
       "      <td>753137.250000</td>\n",
       "      <td>5.000000</td>\n",
       "      <td>21.000000</td>\n",
       "      <td>187000.000000</td>\n",
       "    </tr>\n",
       "    <tr>\n",
       "      <th>max</th>\n",
       "      <td>999969.000000</td>\n",
       "      <td>12.000000</td>\n",
       "      <td>99.000000</td>\n",
       "      <td>408000.000000</td>\n",
       "    </tr>\n",
       "  </tbody>\n",
       "</table>\n",
       "</div>"
      ],
      "text/plain": [
       "         employee_id    company_id     seniority         salary\n",
       "count   24702.000000  24702.000000  24702.000000   24702.000000\n",
       "mean   501604.403530      3.426969     14.127803  138183.345478\n",
       "std    288909.026101      2.700011      8.089520   76058.184573\n",
       "min        36.000000      1.000000      1.000000   17000.000000\n",
       "25%    250133.750000      1.000000      7.000000   79000.000000\n",
       "50%    500793.000000      2.000000     14.000000  123000.000000\n",
       "75%    753137.250000      5.000000     21.000000  187000.000000\n",
       "max    999969.000000     12.000000     99.000000  408000.000000"
      ]
     },
     "execution_count": 3,
     "metadata": {},
     "output_type": "execute_result"
    }
   ],
   "source": [
    "df.info()\n",
    "df.describe()\n",
    "# employee id  float -> int\n",
    "# dept object -> categorical"
   ]
  },
  {
   "cell_type": "code",
   "execution_count": 4,
   "id": "0f4d611e",
   "metadata": {},
   "outputs": [
    {
     "name": "stdout",
     "output_type": "stream",
     "text": [
      "<class 'pandas.core.frame.DataFrame'>\n",
      "Int64Index: 24700 entries, 0 to 24699\n",
      "Data columns (total 7 columns):\n",
      " #   Column       Non-Null Count  Dtype         \n",
      "---  ------       --------------  -----         \n",
      " 0   employee_id  24700 non-null  int64         \n",
      " 1   company_id   24700 non-null  int64         \n",
      " 2   dept         24700 non-null  object        \n",
      " 3   seniority    24700 non-null  int64         \n",
      " 4   salary       24700 non-null  float64       \n",
      " 5   join_date    24700 non-null  datetime64[ns]\n",
      " 6   quit_date    13508 non-null  datetime64[ns]\n",
      "dtypes: datetime64[ns](2), float64(1), int64(3), object(1)\n",
      "memory usage: 1.5+ MB\n"
     ]
    }
   ],
   "source": [
    "df.isnull().sum(axis=0) # quit date is N/A -> indicate no quit\n",
    "null_rows = df[df.isnull().any(axis=1)] \n",
    "df.sort_values(by='seniority',ascending=False).head(5) # remove 99 and 98\n",
    "df = df [df.seniority<30]\n",
    "\n",
    "df.employee_id = df.employee_id.astype(int)\n",
    "df['join_date']=pd.to_datetime(df['join_date'])\n",
    "df['quit_date']=pd.to_datetime(df['quit_date'])\n",
    "df.info()"
   ]
  },
  {
   "cell_type": "code",
   "execution_count": 5,
   "id": "b63de32c",
   "metadata": {},
   "outputs": [
    {
     "name": "stdout",
     "output_type": "stream",
     "text": [
      "number of companyies: 12\n",
      "number of dept: 6\n"
     ]
    }
   ],
   "source": [
    "print(f'number of companyies: {len(df.company_id.unique())}')\n",
    "print(f'number of dept: {len(df.dept.unique())}')"
   ]
  },
  {
   "cell_type": "code",
   "execution_count": 6,
   "id": "dc6a6aac",
   "metadata": {},
   "outputs": [
    {
     "name": "stdout",
     "output_type": "stream",
     "text": [
      "company_id\n",
      "12     73000.000000\n",
      "11    109562.500000\n",
      "6     119925.639040\n",
      "10    121386.574074\n",
      "7     121582.516340\n",
      "3     122118.588578\n",
      "8     122284.622732\n",
      "4     122721.144520\n",
      "5     123348.717949\n",
      "9     123905.306972\n",
      "1     152163.700648\n",
      "2     155728.090952\n",
      "Name: salary, dtype: float64\n"
     ]
    },
    {
     "data": {
      "text/plain": [
       "<AxesSubplot:title={'center':'count'}, xlabel='company_id'>"
      ]
     },
     "execution_count": 6,
     "metadata": {},
     "output_type": "execute_result"
    },
    {
     "data": {
      "image/png": "[encoded data removed]",
      "text/plain": [
       "<Figure size 864x360 with 2 Axes>"
      ]
     },
     "metadata": {
      "needs_background": "light"
     },
     "output_type": "display_data"
    }
   ],
   "source": [
    "print(df.groupby('company_id')['salary'].mean().sort_values())\n",
    "fig,ax = plt.subplots(1,2,figsize=(12,5))\n",
    "df.groupby('company_id')['salary'].mean().sort_values().plot(kind='bar',ax=ax[0],title='sorted mean')\n",
    "df.groupby('company_id')['salary'].count().plot(kind='bar',ax=ax[1],title='count')"
   ]
  },
  {
   "cell_type": "code",
   "execution_count": 7,
   "id": "3215979d",
   "metadata": {},
   "outputs": [
    {
     "name": "stdout",
     "output_type": "stream",
     "text": [
      "dept\n",
      "customer_service     82245.424837\n",
      "marketing           135582.438408\n",
      "sales               135912.358134\n",
      "design              137460.869565\n",
      "engineer            205531.439722\n",
      "data_science        206885.893417\n",
      "Name: salary, dtype: float64\n"
     ]
    },
    {
     "data": {
      "text/plain": [
       "<AxesSubplot:title={'center':'count'}, xlabel='dept'>"
      ]
     },
     "execution_count": 7,
     "metadata": {},
     "output_type": "execute_result"
    },
    {
     "data": {
      "image/png": "[encoded data removed]",
      "text/plain": [
       "<Figure size 864x360 with 2 Axes>"
      ]
     },
     "metadata": {
      "needs_background": "light"
     },
     "output_type": "display_data"
    }
   ],
   "source": [
    "print(df.groupby('dept')['salary'].mean().sort_values())\n",
    "fig,ax = plt.subplots(1,2,figsize=(12,5))\n",
    "df.groupby('dept')['salary'].mean().sort_values().plot(kind='bar',ax=ax[0],title='sorted mean')\n",
    "df.groupby('dept')['salary'].count().plot(kind='bar',ax=ax[1],title='count')"
   ]
  },
  {
   "cell_type": "code",
   "execution_count": 8,
   "id": "06062824",
   "metadata": {},
   "outputs": [
    {
     "data": {
      "text/plain": [
       "DatetimeIndex(['2011-01-23', '2011-01-24', '2011-01-25', '2011-01-26',\n",
       "               '2011-01-27'],\n",
       "              dtype='datetime64[ns]', freq='D')"
      ]
     },
     "execution_count": 8,
     "metadata": {},
     "output_type": "execute_result"
    }
   ],
   "source": [
    "# create the [day,company_id,head_count] table\n",
    "unique_date= pd.date_range(start='2011-01-23',end='2015-12-23',freq='D')\n",
    "unique_date[:5]"
   ]
  },
  {
   "cell_type": "code",
   "execution_count": 9,
   "id": "a28f662e",
   "metadata": {},
   "outputs": [
    {
     "data": {
      "text/html": [
       "<div>\n",
       "<style scoped>\n",
       "    .dataframe tbody tr th:only-of-type {\n",
       "        vertical-align: middle;\n",
       "    }\n",
       "\n",
       "    .dataframe tbody tr th {\n",
       "        vertical-align: top;\n",
       "    }\n",
       "\n",
       "    .dataframe thead th {\n",
       "        text-align: right;\n",
       "    }\n",
       "</style>\n",
       "<table border=\"1\" class=\"dataframe\">\n",
       "  <thead>\n",
       "    <tr style=\"text-align: right;\">\n",
       "      <th></th>\n",
       "      <th>day</th>\n",
       "      <th>company_id</th>\n",
       "      <th>employee_headcount</th>\n",
       "    </tr>\n",
       "  </thead>\n",
       "  <tbody>\n",
       "    <tr>\n",
       "      <th>0</th>\n",
       "      <td>2011-01-23</td>\n",
       "      <td>1</td>\n",
       "      <td>0</td>\n",
       "    </tr>\n",
       "    <tr>\n",
       "      <th>1</th>\n",
       "      <td>2011-01-23</td>\n",
       "      <td>2</td>\n",
       "      <td>0</td>\n",
       "    </tr>\n",
       "    <tr>\n",
       "      <th>2</th>\n",
       "      <td>2011-01-23</td>\n",
       "      <td>3</td>\n",
       "      <td>0</td>\n",
       "    </tr>\n",
       "    <tr>\n",
       "      <th>3</th>\n",
       "      <td>2011-01-23</td>\n",
       "      <td>4</td>\n",
       "      <td>0</td>\n",
       "    </tr>\n",
       "    <tr>\n",
       "      <th>4</th>\n",
       "      <td>2011-01-23</td>\n",
       "      <td>5</td>\n",
       "      <td>0</td>\n",
       "    </tr>\n",
       "  </tbody>\n",
       "</table>\n",
       "</div>"
      ],
      "text/plain": [
       "         day  company_id  employee_headcount\n",
       "0 2011-01-23           1                   0\n",
       "1 2011-01-23           2                   0\n",
       "2 2011-01-23           3                   0\n",
       "3 2011-01-23           4                   0\n",
       "4 2011-01-23           5                   0"
      ]
     },
     "execution_count": 9,
     "metadata": {},
     "output_type": "execute_result"
    }
   ],
   "source": [
    "# created a table/dataframe with columns [day, employee_headcount, and company_id]\n",
    "# iterative appending \n",
    "\n",
    "companies = sorted(df.company_id.unique())\n",
    "\n",
    "day = []\n",
    "company =[]\n",
    "headcount=[]\n",
    "\n",
    "for date in unique_date:\n",
    "    for idx in companies:\n",
    "        total_join = len(df[ (df['join_date']<=date) & (df['company_id']==idx)])\n",
    "        total_quit = len(df[ (df['quit_date']<=date) & (df['company_id']==idx)])\n",
    "        \n",
    "        day.append(date)\n",
    "        company.append(idx)\n",
    "        headcount.append(total_join-total_quit)\n",
    "\n",
    "new_table = pd.DataFrame({'day':day, 'company_id':company, 'employee_headcount':headcount})\n",
    "new_table.head(5)\n",
    "     \n",
    "        "
   ]
  },
  {
   "cell_type": "code",
   "execution_count": 10,
   "id": "08f560ea",
   "metadata": {},
   "outputs": [
    {
     "data": {
      "text/html": [
       "<div>\n",
       "<style scoped>\n",
       "    .dataframe tbody tr th:only-of-type {\n",
       "        vertical-align: middle;\n",
       "    }\n",
       "\n",
       "    .dataframe tbody tr th {\n",
       "        vertical-align: top;\n",
       "    }\n",
       "\n",
       "    .dataframe thead th {\n",
       "        text-align: right;\n",
       "    }\n",
       "</style>\n",
       "<table border=\"1\" class=\"dataframe\">\n",
       "  <thead>\n",
       "    <tr style=\"text-align: right;\">\n",
       "      <th></th>\n",
       "      <th>company_id</th>\n",
       "      <th>key</th>\n",
       "      <th>date</th>\n",
       "    </tr>\n",
       "  </thead>\n",
       "  <tbody>\n",
       "    <tr>\n",
       "      <th>0</th>\n",
       "      <td>1</td>\n",
       "      <td>0</td>\n",
       "      <td>2011-01-23</td>\n",
       "    </tr>\n",
       "    <tr>\n",
       "      <th>1</th>\n",
       "      <td>1</td>\n",
       "      <td>0</td>\n",
       "      <td>2011-01-24</td>\n",
       "    </tr>\n",
       "    <tr>\n",
       "      <th>2</th>\n",
       "      <td>1</td>\n",
       "      <td>0</td>\n",
       "      <td>2011-01-25</td>\n",
       "    </tr>\n",
       "    <tr>\n",
       "      <th>3</th>\n",
       "      <td>1</td>\n",
       "      <td>0</td>\n",
       "      <td>2011-01-26</td>\n",
       "    </tr>\n",
       "    <tr>\n",
       "      <th>4</th>\n",
       "      <td>1</td>\n",
       "      <td>0</td>\n",
       "      <td>2011-01-27</td>\n",
       "    </tr>\n",
       "    <tr>\n",
       "      <th>...</th>\n",
       "      <td>...</td>\n",
       "      <td>...</td>\n",
       "      <td>...</td>\n",
       "    </tr>\n",
       "    <tr>\n",
       "      <th>21547</th>\n",
       "      <td>12</td>\n",
       "      <td>0</td>\n",
       "      <td>2015-12-19</td>\n",
       "    </tr>\n",
       "    <tr>\n",
       "      <th>21548</th>\n",
       "      <td>12</td>\n",
       "      <td>0</td>\n",
       "      <td>2015-12-20</td>\n",
       "    </tr>\n",
       "    <tr>\n",
       "      <th>21549</th>\n",
       "      <td>12</td>\n",
       "      <td>0</td>\n",
       "      <td>2015-12-21</td>\n",
       "    </tr>\n",
       "    <tr>\n",
       "      <th>21550</th>\n",
       "      <td>12</td>\n",
       "      <td>0</td>\n",
       "      <td>2015-12-22</td>\n",
       "    </tr>\n",
       "    <tr>\n",
       "      <th>21551</th>\n",
       "      <td>12</td>\n",
       "      <td>0</td>\n",
       "      <td>2015-12-23</td>\n",
       "    </tr>\n",
       "  </tbody>\n",
       "</table>\n",
       "<p>21552 rows × 3 columns</p>\n",
       "</div>"
      ],
      "text/plain": [
       "       company_id  key       date\n",
       "0               1    0 2011-01-23\n",
       "1               1    0 2011-01-24\n",
       "2               1    0 2011-01-25\n",
       "3               1    0 2011-01-26\n",
       "4               1    0 2011-01-27\n",
       "...           ...  ...        ...\n",
       "21547          12    0 2015-12-19\n",
       "21548          12    0 2015-12-20\n",
       "21549          12    0 2015-12-21\n",
       "21550          12    0 2015-12-22\n",
       "21551          12    0 2015-12-23\n",
       "\n",
       "[21552 rows x 3 columns]"
      ]
     },
     "execution_count": 10,
     "metadata": {},
     "output_type": "execute_result"
    }
   ],
   "source": [
    "# created a table/dataframe with columns [day, employee_headcount, and company_id]\n",
    "# sql style join\n",
    "companies_ids = pd.DataFrame({'company_id':sorted(pd.unique(df['company_id']))})\n",
    "date_df = pd.DataFrame({'date':unique_date})\n",
    "# Cartesian product pandas merge\n",
    "companies_ids['key']=0\n",
    "date_df['key']=0\n",
    "merged= pd.merge(companies_ids,date_df,on='key')\n",
    "merged"
   ]
  },
  {
   "cell_type": "code",
   "execution_count": 11,
   "id": "92a67f8d",
   "metadata": {},
   "outputs": [
    {
     "data": {
      "text/html": [
       "<div>\n",
       "<style scoped>\n",
       "    .dataframe tbody tr th:only-of-type {\n",
       "        vertical-align: middle;\n",
       "    }\n",
       "\n",
       "    .dataframe tbody tr th {\n",
       "        vertical-align: top;\n",
       "    }\n",
       "\n",
       "    .dataframe thead th {\n",
       "        text-align: right;\n",
       "    }\n",
       "</style>\n",
       "<table border=\"1\" class=\"dataframe\">\n",
       "  <thead>\n",
       "    <tr style=\"text-align: right;\">\n",
       "      <th></th>\n",
       "      <th>employee_id</th>\n",
       "      <th>company_id</th>\n",
       "      <th>dept</th>\n",
       "      <th>seniority</th>\n",
       "      <th>salary</th>\n",
       "      <th>join_date</th>\n",
       "      <th>quit_date</th>\n",
       "    </tr>\n",
       "  </thead>\n",
       "  <tbody>\n",
       "    <tr>\n",
       "      <th>0</th>\n",
       "      <td>13021</td>\n",
       "      <td>7</td>\n",
       "      <td>customer_service</td>\n",
       "      <td>28</td>\n",
       "      <td>89000.0</td>\n",
       "      <td>2014-03-24</td>\n",
       "      <td>2015-10-30</td>\n",
       "    </tr>\n",
       "    <tr>\n",
       "      <th>1</th>\n",
       "      <td>825355</td>\n",
       "      <td>7</td>\n",
       "      <td>marketing</td>\n",
       "      <td>20</td>\n",
       "      <td>183000.0</td>\n",
       "      <td>2013-04-29</td>\n",
       "      <td>2014-04-04</td>\n",
       "    </tr>\n",
       "    <tr>\n",
       "      <th>3</th>\n",
       "      <td>662910</td>\n",
       "      <td>7</td>\n",
       "      <td>customer_service</td>\n",
       "      <td>20</td>\n",
       "      <td>115000.0</td>\n",
       "      <td>2012-05-14</td>\n",
       "      <td>2013-06-07</td>\n",
       "    </tr>\n",
       "    <tr>\n",
       "      <th>4</th>\n",
       "      <td>256971</td>\n",
       "      <td>2</td>\n",
       "      <td>data_science</td>\n",
       "      <td>23</td>\n",
       "      <td>276000.0</td>\n",
       "      <td>2011-10-17</td>\n",
       "      <td>2014-08-22</td>\n",
       "    </tr>\n",
       "    <tr>\n",
       "      <th>5</th>\n",
       "      <td>509529</td>\n",
       "      <td>4</td>\n",
       "      <td>data_science</td>\n",
       "      <td>14</td>\n",
       "      <td>165000.0</td>\n",
       "      <td>2012-01-30</td>\n",
       "      <td>2013-08-30</td>\n",
       "    </tr>\n",
       "  </tbody>\n",
       "</table>\n",
       "</div>"
      ],
      "text/plain": [
       "   employee_id  company_id              dept  seniority    salary  join_date  \\\n",
       "0        13021           7  customer_service         28   89000.0 2014-03-24   \n",
       "1       825355           7         marketing         20  183000.0 2013-04-29   \n",
       "3       662910           7  customer_service         20  115000.0 2012-05-14   \n",
       "4       256971           2      data_science         23  276000.0 2011-10-17   \n",
       "5       509529           4      data_science         14  165000.0 2012-01-30   \n",
       "\n",
       "   quit_date  \n",
       "0 2015-10-30  \n",
       "1 2014-04-04  \n",
       "3 2013-06-07  \n",
       "4 2014-08-22  \n",
       "5 2013-08-30  "
      ]
     },
     "metadata": {},
     "output_type": "display_data"
    },
    {
     "data": {
      "text/html": [
       "<div>\n",
       "<style scoped>\n",
       "    .dataframe tbody tr th:only-of-type {\n",
       "        vertical-align: middle;\n",
       "    }\n",
       "\n",
       "    .dataframe tbody tr th {\n",
       "        vertical-align: top;\n",
       "    }\n",
       "\n",
       "    .dataframe thead th {\n",
       "        text-align: right;\n",
       "    }\n",
       "</style>\n",
       "<table border=\"1\" class=\"dataframe\">\n",
       "  <thead>\n",
       "    <tr style=\"text-align: right;\">\n",
       "      <th></th>\n",
       "      <th>employee_id</th>\n",
       "      <th>company_id</th>\n",
       "      <th>dept</th>\n",
       "      <th>seniority</th>\n",
       "      <th>salary</th>\n",
       "      <th>join_date</th>\n",
       "      <th>quit_date</th>\n",
       "    </tr>\n",
       "  </thead>\n",
       "  <tbody>\n",
       "    <tr>\n",
       "      <th>2</th>\n",
       "      <td>927315</td>\n",
       "      <td>4</td>\n",
       "      <td>marketing</td>\n",
       "      <td>14</td>\n",
       "      <td>101000.0</td>\n",
       "      <td>2014-10-13</td>\n",
       "      <td>NaT</td>\n",
       "    </tr>\n",
       "    <tr>\n",
       "      <th>6</th>\n",
       "      <td>88600</td>\n",
       "      <td>4</td>\n",
       "      <td>customer_service</td>\n",
       "      <td>21</td>\n",
       "      <td>107000.0</td>\n",
       "      <td>2013-10-21</td>\n",
       "      <td>NaT</td>\n",
       "    </tr>\n",
       "    <tr>\n",
       "      <th>7</th>\n",
       "      <td>716309</td>\n",
       "      <td>2</td>\n",
       "      <td>customer_service</td>\n",
       "      <td>4</td>\n",
       "      <td>30000.0</td>\n",
       "      <td>2014-03-05</td>\n",
       "      <td>NaT</td>\n",
       "    </tr>\n",
       "    <tr>\n",
       "      <th>9</th>\n",
       "      <td>504159</td>\n",
       "      <td>1</td>\n",
       "      <td>sales</td>\n",
       "      <td>7</td>\n",
       "      <td>104000.0</td>\n",
       "      <td>2012-06-12</td>\n",
       "      <td>NaT</td>\n",
       "    </tr>\n",
       "    <tr>\n",
       "      <th>11</th>\n",
       "      <td>904158</td>\n",
       "      <td>2</td>\n",
       "      <td>marketing</td>\n",
       "      <td>17</td>\n",
       "      <td>230000.0</td>\n",
       "      <td>2015-05-11</td>\n",
       "      <td>NaT</td>\n",
       "    </tr>\n",
       "  </tbody>\n",
       "</table>\n",
       "</div>"
      ],
      "text/plain": [
       "    employee_id  company_id              dept  seniority    salary  join_date  \\\n",
       "2        927315           4         marketing         14  101000.0 2014-10-13   \n",
       "6         88600           4  customer_service         21  107000.0 2013-10-21   \n",
       "7        716309           2  customer_service          4   30000.0 2014-03-05   \n",
       "9        504159           1             sales          7  104000.0 2012-06-12   \n",
       "11       904158           2         marketing         17  230000.0 2015-05-11   \n",
       "\n",
       "   quit_date  \n",
       "2        NaT  \n",
       "6        NaT  \n",
       "7        NaT  \n",
       "9        NaT  \n",
       "11       NaT  "
      ]
     },
     "metadata": {},
     "output_type": "display_data"
    }
   ],
   "source": [
    "# EDA\n",
    "# seperate data \n",
    "quit_data = df[~df['quit_date'].isnull()]\n",
    "stay_data = df[df['quit_date'].isnull()]\n",
    "display(quit_data.head(5))\n",
    "display(stay_data.head(5))"
   ]
  },
  {
   "cell_type": "code",
   "execution_count": 12,
   "id": "5dd06380",
   "metadata": {},
   "outputs": [],
   "source": [
    "# employment length\n",
    "emp_length = quit_data['quit_date']-quit_data['join_date']"
   ]
  },
  {
   "cell_type": "code",
   "execution_count": 13,
   "id": "df18a7a5",
   "metadata": {},
   "outputs": [
    {
     "data": {
      "text/plain": [
       "[585, 340, 389, 1040, 578]"
      ]
     },
     "execution_count": 13,
     "metadata": {},
     "output_type": "execute_result"
    }
   ],
   "source": [
    "days=[x.days for x in emp_length]\n",
    "days[0:5]"
   ]
  },
  {
   "cell_type": "code",
   "execution_count": 14,
   "id": "36c0f72f",
   "metadata": {},
   "outputs": [
    {
     "data": {
      "text/plain": [
       "Text(0, 0.5, 'Frequency')"
      ]
     },
     "execution_count": 14,
     "metadata": {},
     "output_type": "execute_result"
    },
    {
     "data": {
      "image/png": "[encoded data removed]",
      "text/plain": [
       "<Figure size 864x360 with 1 Axes>"
      ]
     },
     "metadata": {
      "needs_background": "light"
     },
     "output_type": "display_data"
    }
   ],
   "source": [
    "hist_kws = {'histtype':'bar','edgecolor':'black','alpha':0.5}\n",
    "fig,ax = plt.subplots(figsize=(12,5))\n",
    "sns.histplot(days,bins=100,kde=False,ax=ax)\n",
    "ax.set_title('Histogram of Employment days')\n",
    "ax.set_xlabel('Employment Days')\n",
    "ax.set_ylabel('Frequency')"
   ]
  },
  {
   "cell_type": "code",
   "execution_count": 15,
   "id": "52062412",
   "metadata": {},
   "outputs": [
    {
     "data": {
      "image/png": "[encoded data removed]",
      "text/plain": [
       "<Figure size 864x360 with 1 Axes>"
      ]
     },
     "metadata": {
      "needs_background": "light"
     },
     "output_type": "display_data"
    }
   ],
   "source": [
    "# Month and quiting\n",
    "quit_month =  np.array(list(map(lambda x: x.month, quit_data['quit_date'])))\n",
    "\n",
    "fig,ax =plt.subplots(figsize=(12,5))\n",
    "sns.countplot(x=quit_month)\n",
    "ax.set_title('Count plot of Quit Month',fontsize= 12)\n",
    "ax.set_title('Month', fontsize=12)\n",
    "ax.set_ylabel('Frequency',fontsize=12)\n",
    "plt.show()\n"
   ]
  },
  {
   "cell_type": "code",
   "execution_count": 16,
   "id": "8dc580fe",
   "metadata": {},
   "outputs": [
    {
     "data": {
      "text/plain": [
       "Text(0, 0.5, 'Count')"
      ]
     },
     "execution_count": 16,
     "metadata": {},
     "output_type": "execute_result"
    },
    {
     "data": {
      "image/png": "[encoded data removed]",
      "text/plain": [
       "<Figure size 864x360 with 1 Axes>"
      ]
     },
     "metadata": {
      "needs_background": "light"
     },
     "output_type": "display_data"
    }
   ],
   "source": [
    "quit_week = [ x.week for x in quit_data['quit_date'] ]\n",
    "\n",
    "fig,ax= plt.subplots(figsize=(12,5))\n",
    "sns.countplot(x=quit_week,ax=ax)\n",
    "ax.set_title('Count plot of Quit Week No.', fontsize=12)\n",
    "ax.set_xlabel('Week No.',fontsize=12)\n",
    "ax.set_ylabel('Count',fontsize=12)\n"
   ]
  },
  {
   "cell_type": "code",
   "execution_count": 17,
   "id": "e2b15af6",
   "metadata": {},
   "outputs": [
    {
     "name": "stderr",
     "output_type": "stream",
     "text": [
      "/Library/Frameworks/Python.framework/Versions/3.7/lib/python3.7/site-packages/pandas/core/indexing.py:1596: SettingWithCopyWarning: \n",
      "A value is trying to be set on a copy of a slice from a DataFrame.\n",
      "Try using .loc[row_indexer,col_indexer] = value instead\n",
      "\n",
      "See the caveats in the documentation: https://pandas.pydata.org/pandas-docs/stable/user_guide/indexing.html#returning-a-view-versus-a-copy\n",
      "  self.obj[key] = _infer_fill_value(value)\n",
      "/Library/Frameworks/Python.framework/Versions/3.7/lib/python3.7/site-packages/pandas/core/indexing.py:1743: SettingWithCopyWarning: \n",
      "A value is trying to be set on a copy of a slice from a DataFrame.\n",
      "Try using .loc[row_indexer,col_indexer] = value instead\n",
      "\n",
      "See the caveats in the documentation: https://pandas.pydata.org/pandas-docs/stable/user_guide/indexing.html#returning-a-view-versus-a-copy\n",
      "  isetter(ilocs[0], value)\n"
     ]
    },
    {
     "data": {
      "text/html": [
       "<div>\n",
       "<style scoped>\n",
       "    .dataframe tbody tr th:only-of-type {\n",
       "        vertical-align: middle;\n",
       "    }\n",
       "\n",
       "    .dataframe tbody tr th {\n",
       "        vertical-align: top;\n",
       "    }\n",
       "\n",
       "    .dataframe thead th {\n",
       "        text-align: right;\n",
       "    }\n",
       "</style>\n",
       "<table border=\"1\" class=\"dataframe\">\n",
       "  <thead>\n",
       "    <tr style=\"text-align: right;\">\n",
       "      <th></th>\n",
       "      <th>employee_id</th>\n",
       "      <th>company_id</th>\n",
       "      <th>dept</th>\n",
       "      <th>seniority</th>\n",
       "      <th>salary</th>\n",
       "      <th>join_date</th>\n",
       "      <th>quit_date</th>\n",
       "      <th>work_days</th>\n",
       "      <th>quit_week</th>\n",
       "    </tr>\n",
       "  </thead>\n",
       "  <tbody>\n",
       "    <tr>\n",
       "      <th>0</th>\n",
       "      <td>13021</td>\n",
       "      <td>7</td>\n",
       "      <td>customer_service</td>\n",
       "      <td>28</td>\n",
       "      <td>89000.0</td>\n",
       "      <td>2014-03-24</td>\n",
       "      <td>2015-10-30</td>\n",
       "      <td>585</td>\n",
       "      <td>44</td>\n",
       "    </tr>\n",
       "    <tr>\n",
       "      <th>1</th>\n",
       "      <td>825355</td>\n",
       "      <td>7</td>\n",
       "      <td>marketing</td>\n",
       "      <td>20</td>\n",
       "      <td>183000.0</td>\n",
       "      <td>2013-04-29</td>\n",
       "      <td>2014-04-04</td>\n",
       "      <td>340</td>\n",
       "      <td>14</td>\n",
       "    </tr>\n",
       "    <tr>\n",
       "      <th>3</th>\n",
       "      <td>662910</td>\n",
       "      <td>7</td>\n",
       "      <td>customer_service</td>\n",
       "      <td>20</td>\n",
       "      <td>115000.0</td>\n",
       "      <td>2012-05-14</td>\n",
       "      <td>2013-06-07</td>\n",
       "      <td>389</td>\n",
       "      <td>23</td>\n",
       "    </tr>\n",
       "    <tr>\n",
       "      <th>4</th>\n",
       "      <td>256971</td>\n",
       "      <td>2</td>\n",
       "      <td>data_science</td>\n",
       "      <td>23</td>\n",
       "      <td>276000.0</td>\n",
       "      <td>2011-10-17</td>\n",
       "      <td>2014-08-22</td>\n",
       "      <td>1040</td>\n",
       "      <td>34</td>\n",
       "    </tr>\n",
       "    <tr>\n",
       "      <th>5</th>\n",
       "      <td>509529</td>\n",
       "      <td>4</td>\n",
       "      <td>data_science</td>\n",
       "      <td>14</td>\n",
       "      <td>165000.0</td>\n",
       "      <td>2012-01-30</td>\n",
       "      <td>2013-08-30</td>\n",
       "      <td>578</td>\n",
       "      <td>35</td>\n",
       "    </tr>\n",
       "  </tbody>\n",
       "</table>\n",
       "</div>"
      ],
      "text/plain": [
       "   employee_id  company_id              dept  seniority    salary  join_date  \\\n",
       "0        13021           7  customer_service         28   89000.0 2014-03-24   \n",
       "1       825355           7         marketing         20  183000.0 2013-04-29   \n",
       "3       662910           7  customer_service         20  115000.0 2012-05-14   \n",
       "4       256971           2      data_science         23  276000.0 2011-10-17   \n",
       "5       509529           4      data_science         14  165000.0 2012-01-30   \n",
       "\n",
       "   quit_date  work_days  quit_week  \n",
       "0 2015-10-30        585         44  \n",
       "1 2014-04-04        340         14  \n",
       "3 2013-06-07        389         23  \n",
       "4 2014-08-22       1040         34  \n",
       "5 2013-08-30        578         35  "
      ]
     },
     "execution_count": 17,
     "metadata": {},
     "output_type": "execute_result"
    }
   ],
   "source": [
    "# Machine Learning modeling\n",
    "quit_data.loc[:,'work_days']=days\n",
    "quit_data.loc[:,'quit_week']=quit_week\n",
    "quit_data.head(5)"
   ]
  },
  {
   "cell_type": "code",
   "execution_count": 18,
   "id": "8c74c1b0",
   "metadata": {},
   "outputs": [
    {
     "name": "stderr",
     "output_type": "stream",
     "text": [
      "/Library/Frameworks/Python.framework/Versions/3.7/lib/python3.7/site-packages/ipykernel_launcher.py:10: SettingWithCopyWarning: \n",
      "A value is trying to be set on a copy of a slice from a DataFrame.\n",
      "Try using .loc[row_indexer,col_indexer] = value instead\n",
      "\n",
      "See the caveats in the documentation: https://pandas.pydata.org/pandas-docs/stable/user_guide/indexing.html#returning-a-view-versus-a-copy\n",
      "  # Remove the CWD from sys.path while we load stuff.\n"
     ]
    },
    {
     "data": {
      "text/html": [
       "<div>\n",
       "<style scoped>\n",
       "    .dataframe tbody tr th:only-of-type {\n",
       "        vertical-align: middle;\n",
       "    }\n",
       "\n",
       "    .dataframe tbody tr th {\n",
       "        vertical-align: top;\n",
       "    }\n",
       "\n",
       "    .dataframe thead th {\n",
       "        text-align: right;\n",
       "    }\n",
       "</style>\n",
       "<table border=\"1\" class=\"dataframe\">\n",
       "  <thead>\n",
       "    <tr style=\"text-align: right;\">\n",
       "      <th></th>\n",
       "      <th>employee_id</th>\n",
       "      <th>company_id</th>\n",
       "      <th>dept</th>\n",
       "      <th>seniority</th>\n",
       "      <th>salary</th>\n",
       "      <th>join_date</th>\n",
       "      <th>quit_date</th>\n",
       "      <th>early_quit</th>\n",
       "    </tr>\n",
       "  </thead>\n",
       "  <tbody>\n",
       "    <tr>\n",
       "      <th>0</th>\n",
       "      <td>13021</td>\n",
       "      <td>7</td>\n",
       "      <td>customer_service</td>\n",
       "      <td>28</td>\n",
       "      <td>89000.0</td>\n",
       "      <td>2014-03-24</td>\n",
       "      <td>2015-10-30</td>\n",
       "      <td>0</td>\n",
       "    </tr>\n",
       "    <tr>\n",
       "      <th>1</th>\n",
       "      <td>825355</td>\n",
       "      <td>7</td>\n",
       "      <td>marketing</td>\n",
       "      <td>20</td>\n",
       "      <td>183000.0</td>\n",
       "      <td>2013-04-29</td>\n",
       "      <td>2014-04-04</td>\n",
       "      <td>1</td>\n",
       "    </tr>\n",
       "    <tr>\n",
       "      <th>2</th>\n",
       "      <td>927315</td>\n",
       "      <td>4</td>\n",
       "      <td>marketing</td>\n",
       "      <td>14</td>\n",
       "      <td>101000.0</td>\n",
       "      <td>2014-10-13</td>\n",
       "      <td>NaT</td>\n",
       "      <td>0</td>\n",
       "    </tr>\n",
       "    <tr>\n",
       "      <th>3</th>\n",
       "      <td>662910</td>\n",
       "      <td>7</td>\n",
       "      <td>customer_service</td>\n",
       "      <td>20</td>\n",
       "      <td>115000.0</td>\n",
       "      <td>2012-05-14</td>\n",
       "      <td>2013-06-07</td>\n",
       "      <td>1</td>\n",
       "    </tr>\n",
       "    <tr>\n",
       "      <th>4</th>\n",
       "      <td>256971</td>\n",
       "      <td>2</td>\n",
       "      <td>data_science</td>\n",
       "      <td>23</td>\n",
       "      <td>276000.0</td>\n",
       "      <td>2011-10-17</td>\n",
       "      <td>2014-08-22</td>\n",
       "      <td>0</td>\n",
       "    </tr>\n",
       "  </tbody>\n",
       "</table>\n",
       "</div>"
      ],
      "text/plain": [
       "   employee_id  company_id              dept  seniority    salary  join_date  \\\n",
       "0        13021           7  customer_service         28   89000.0 2014-03-24   \n",
       "1       825355           7         marketing         20  183000.0 2013-04-29   \n",
       "2       927315           4         marketing         14  101000.0 2014-10-13   \n",
       "3       662910           7  customer_service         20  115000.0 2012-05-14   \n",
       "4       256971           2      data_science         23  276000.0 2011-10-17   \n",
       "\n",
       "   quit_date  early_quit  \n",
       "0 2015-10-30           0  \n",
       "1 2014-04-04           1  \n",
       "2        NaT           0  \n",
       "3 2013-06-07           1  \n",
       "4 2014-08-22           0  "
      ]
     },
     "execution_count": 18,
     "metadata": {},
     "output_type": "execute_result"
    }
   ],
   "source": [
    "# define early quit to be less than 13 months\n",
    "\n",
    "stop_date = pd.to_datetime('2015-12-13')-pd.DateOffset(days=365+30)\n",
    "subset = df[df['join_date']<stop_date] # join before 13 months ahead of end date \n",
    "\n",
    "# define stay\n",
    "early_quit = subset['quit_date'].isnull()|(subset['quit_date']>subset['join_date']+pd.DateOffset(days=365+30))\n",
    "\n",
    "# reverse \n",
    "subset['early_quit']=1 - early_quit.astype(int)\n",
    "subset.head()\n"
   ]
  },
  {
   "cell_type": "code",
   "execution_count": 19,
   "id": "4e59074e",
   "metadata": {},
   "outputs": [],
   "source": [
    "# one hot encoding\n",
    "dummy_df = pd.get_dummies(subset,columns=['company_id','dept'])\n",
    "dummy_df.head()\n",
    "# drop join_date & quit_date\n",
    "dummy_df.drop(['join_date','quit_date'],inplace=True,axis=1)"
   ]
  },
  {
   "cell_type": "code",
   "execution_count": 20,
   "id": "7e6da93a",
   "metadata": {},
   "outputs": [
    {
     "data": {
      "text/plain": [
       "(19274, 21)"
      ]
     },
     "metadata": {},
     "output_type": "display_data"
    },
    {
     "data": {
      "text/plain": [
       "(19274,)"
      ]
     },
     "metadata": {},
     "output_type": "display_data"
    }
   ],
   "source": [
    "X = dummy_df.loc[:,dummy_df.columns!='early_quit']\n",
    "y = dummy_df.loc[:,'early_quit']\n",
    "display(X.shape)\n",
    "display(y.shape)\n",
    "train_X,test_X,train_y,test_y = train_test_split(X,y)"
   ]
  },
  {
   "cell_type": "code",
   "execution_count": 25,
   "id": "2f919559",
   "metadata": {},
   "outputs": [],
   "source": [
    "clf = DecisionTreeClassifier(max_depth = 3, min_samples_leaf=30,random_state=32)\n",
    "y_hat=clf.fit(X=train_X,y=train_y).predict(test_X)"
   ]
  },
  {
   "cell_type": "code",
   "execution_count": 26,
   "id": "a01b8fa2",
   "metadata": {},
   "outputs": [
    {
     "name": "stdout",
     "output_type": "stream",
     "text": [
      "The accuracy score of the decision tree is:0.7119734384727122\n"
     ]
    }
   ],
   "source": [
    "acc_score = accuracy_score(test_y,y_hat)\n",
    "print(f'The accuracy score of the decision tree is:{ acc_score }')"
   ]
  },
  {
   "cell_type": "code",
   "execution_count": 27,
   "id": "77c34e94",
   "metadata": {},
   "outputs": [
    {
     "data": {
      "text/plain": [
       "[Text(167.4, 190.26, 'X[2] <= 224500.0\\ngini = 0.409\\nsamples = 14455\\nvalue = [10305, 4150]'),\n",
       " Text(83.7, 135.9, 'X[2] <= 75500.0\\ngini = 0.425\\nsamples = 12394\\nvalue = [8593, 3801]'),\n",
       " Text(41.85, 81.53999999999999, 'X[1] <= 8.5\\ngini = 0.384\\nsamples = 3326\\nvalue = [2464, 862]'),\n",
       " Text(20.925, 27.180000000000007, 'gini = 0.37\\nsamples = 2453\\nvalue = [1851, 602]'),\n",
       " Text(62.775000000000006, 27.180000000000007, 'gini = 0.418\\nsamples = 873\\nvalue = [613, 260]'),\n",
       " Text(125.55000000000001, 81.53999999999999, 'X[2] <= 169500.0\\ngini = 0.438\\nsamples = 9068\\nvalue = [6129, 2939]'),\n",
       " Text(104.625, 27.180000000000007, 'gini = 0.447\\nsamples = 6641\\nvalue = [4403, 2238]'),\n",
       " Text(146.475, 27.180000000000007, 'gini = 0.411\\nsamples = 2427\\nvalue = [1726, 701]'),\n",
       " Text(251.10000000000002, 135.9, 'X[2] <= 274500.0\\ngini = 0.281\\nsamples = 2061\\nvalue = [1712, 349]'),\n",
       " Text(209.25, 81.53999999999999, 'X[11] <= 0.5\\ngini = 0.319\\nsamples = 1054\\nvalue = [844, 210]'),\n",
       " Text(188.32500000000002, 27.180000000000007, 'gini = 0.312\\nsamples = 1002\\nvalue = [808, 194]'),\n",
       " Text(230.175, 27.180000000000007, 'gini = 0.426\\nsamples = 52\\nvalue = [36, 16]'),\n",
       " Text(292.95, 81.53999999999999, 'X[2] <= 339500.0\\ngini = 0.238\\nsamples = 1007\\nvalue = [868, 139]'),\n",
       " Text(272.02500000000003, 27.180000000000007, 'gini = 0.255\\nsamples = 885\\nvalue = [752, 133]'),\n",
       " Text(313.875, 27.180000000000007, 'gini = 0.094\\nsamples = 122\\nvalue = [116, 6]')]"
      ]
     },
     "execution_count": 27,
     "metadata": {},
     "output_type": "execute_result"
    },
    {
     "data": {
      "image/png": "[encoded data removed]",
      "text/plain": [
       "<Figure size 432x288 with 1 Axes>"
      ]
     },
     "metadata": {
      "needs_background": "light"
     },
     "output_type": "display_data"
    }
   ],
   "source": [
    "# visualize the tree\n",
    "# Xcode issues \n",
    "'''\n",
    "features = [ x for x in train_X.columns]\n",
    "targets= ['No early_quit','Early_quit']\n",
    "DOT = tree.export_graphviz(clf,feature_names=features,class_names=targets)\n",
    "graph = graphviz.Source(DOT)\n",
    "graph\n",
    "'''\n",
    "tree.plot_tree(clf)"
   ]
  },
  {
   "cell_type": "code",
   "execution_count": null,
   "id": "a3e7ccf6",
   "metadata": {},
   "outputs": [],
   "source": []
  }
 ],
 "metadata": {
  "kernelspec": {
   "display_name": "Python 3",
   "language": "python",
   "name": "python3"
  },
  "language_info": {
   "codemirror_mode": {
    "name": "ipython",
    "version": 3
   },
   "file_extension": ".py",
   "mimetype": "text/x-python",
   "name": "python",
   "nbconvert_exporter": "python",
   "pygments_lexer": "ipython3",
   "version": "3.7.9"
  }
 },
 "nbformat": 4,
 "nbformat_minor": 5
}
